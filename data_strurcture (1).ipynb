{
  "nbformat": 4,
  "nbformat_minor": 0,
  "metadata": {
    "colab": {
      "provenance": []
    },
    "kernelspec": {
      "name": "python3",
      "display_name": "Python 3"
    },
    "language_info": {
      "name": "python"
    }
  },
  "cells": [
    {
      "cell_type": "markdown",
      "source": [
        "# Data structure"
      ],
      "metadata": {
        "id": "ErutS_LJMWh9"
      }
    },
    {
      "cell_type": "markdown",
      "source": [
        "1. What are data structure, and why are they important?\n",
        "\n",
        " .   Data structure is a way of organizing, string and storing data so that it can be accessed and manipulated effecienty.  "
      ],
      "metadata": {
        "id": "DGhPkiu6GGw5"
      }
    },
    {
      "cell_type": "markdown",
      "source": [
        "  2. Explain the difference between mutable and immutable data type with example?\n",
        "\n",
        "    . Mutable data type can be modified after their creation, while immutable data types cannot.Lists are mutable. allowing you to change, add, or remove elements.string, on the other hand, are immutable, meaning their content cannot be altered once they are created."
      ],
      "metadata": {
        "id": "4f2rr-mTGUQ7"
      }
    },
    {
      "cell_type": "markdown",
      "source": [
        "3. What are  the main difference between lists and tuples in python?\n",
        "\n",
        " . List are mutable, but tuple are immutable. list can be modifield after creation, while tuple cannot be changed once the tuole is created."
      ],
      "metadata": {
        "id": "fjyla76ZLyNT"
      }
    },
    {
      "cell_type": "markdown",
      "source": [
        "4. Describe how dictionaries store data?\n",
        "\n",
        " . Dictionaries are key-value paires that allow you to store and retrieve data based on a uniquekey. the keys must be immutable, such as strings or numbers."
      ],
      "metadata": {
        "id": "VkXkkfbBNtmW"
      }
    },
    {
      "cell_type": "markdown",
      "source": [
        "5.  Why might you use a set instread of a list in python?\n",
        "\n",
        " . Sets and lists are both used to store collections of items in python, but they have different characteristics are use cases."
      ],
      "metadata": {
        "id": "8ahM1Mw5OqpK"
      }
    },
    {
      "cell_type": "markdown",
      "source": [
        "6. What is a string in python, and how is it different from a list?\n",
        "\n",
        " . String is a sequence of character. its used for representing and manipulate textual data. A list a sequence of values which can be characters, integers of even another list .\n",
        "\n"
      ],
      "metadata": {
        "id": "txUCgbq_QZiJ"
      }
    },
    {
      "cell_type": "markdown",
      "source": [
        "7. How do tuples ensure data integrity in python?\n",
        "\n",
        " .   Tuples in python ensure data integrity primarily through their immutable. Once a tuple is created, its elments cannot be modified, added, or removed. this characteristic is crucial for maintainning the consistency and reliability of data."
      ],
      "metadata": {
        "id": "KMCCi6kSUavJ"
      }
    },
    {
      "cell_type": "markdown",
      "source": [
        "8. what is a hash table, and how does it relate to dictionaries in python?\n",
        "\n",
        " . A hash table is a data structure that maps keys to values using a hash function, allowing for very fast lookup, insertions, and deletions.\n"
      ],
      "metadata": {
        "id": "aA-2XL8hcE2p"
      }
    },
    {
      "cell_type": "markdown",
      "source": [
        "9. Can lists contain different data types in python?\n",
        "\n",
        " . yes, a list in python can contain different data types."
      ],
      "metadata": {
        "id": "n1pzoOeFc6Zm"
      }
    },
    {
      "cell_type": "markdown",
      "source": [
        "10. Explain why string are immutable in python?\n",
        "\n",
        " . String in python are immutable which means they can not be changed after they are created.some other immutable data type are integers, float, boolen, etc. The immutablility of python string is very uesfull as it helps in hashing, perfomance optimization, safety, ease of use, etc."
      ],
      "metadata": {
        "id": "aqKbTdZBdoY-"
      }
    },
    {
      "cell_type": "markdown",
      "source": [
        "11. What advantage do dictionaris offer over lists for certain tasks?\n",
        "\n",
        " . Dictionaries excel in scenaries requiring fast lookups, key-value associations, and complex data mappings, while lists are ideal for orederd collections, sequentions, processing and simple data storage."
      ],
      "metadata": {
        "id": "guosX3W0vjAC"
      }
    },
    {
      "cell_type": "markdown",
      "source": [
        "12. Describe a scenario where using a tuple would be preferable over a list?  \n",
        "\n",
        " .  Tuple are immutable. Hence, they are primarily used to store data that doesn't change frequently. Any operation can store data in a tuple when you don't want it to change. Tuples are great to use if you want the data in your collection to be read-only, never to change, and always remain the same and constant."
      ],
      "metadata": {
        "id": "EsPi4MBq0Kpf"
      }
    },
    {
      "cell_type": "markdown",
      "source": [
        "13. How do sets handle duplicate values in python?\n",
        "\n",
        " . Python sets are designed to store only unique elements. when you attempt to add a duplicate value to a set, it will be automatically ignored and the set will remain unchanged."
      ],
      "metadata": {
        "id": "J-GRbzsR3OaX"
      }
    },
    {
      "cell_type": "markdown",
      "source": [
        "14. How does the \"in\" keyword work differently for lists and dictionaries?\n",
        "\n",
        " . As mentioned above, the in operation for the dictionay tests on keys. The key of the  dictionay is a unique value as well as the sets, and the execution time is about the same as for sets. On the other hand, dictionary values can be duplicated like a list."
      ],
      "metadata": {
        "id": "er5GGK9QO2d_"
      }
    },
    {
      "cell_type": "markdown",
      "source": [
        "15. Can you modify the elements of a tuple would be preferable over a list.\n",
        "\n",
        " . No tuples are immutable, which means they cannot be modifed after they are created."
      ],
      "metadata": {
        "id": "Zg3gnjtGO4A3"
      }
    },
    {
      "cell_type": "markdown",
      "source": [
        "16.What is a nested dictonary, and give an example of its use case?\n",
        "\n",
        " . A nested dictionary in python is a dictionary where the value are themselves dictionaries."
      ],
      "metadata": {
        "id": "3I5Wm5ADO4oo"
      }
    },
    {
      "cell_type": "markdown",
      "source": [
        "17. describe the time complexity of accessing elementsin a dictionaries.\n",
        "\n",
        ". Accessing an elementin a pyhton dictionary by its key has an average time complexity of O(1), which is considered constant time. This means the time it take to retrieve a value doesn't increase as the dictionary gets larger."
      ],
      "metadata": {
        "id": "ouDb_R2TRrmt"
      }
    },
    {
      "cell_type": "markdown",
      "source": [
        "18. In what situations are lists preferred over dictionaries?\n",
        "\n",
        " . Lists and dictionaries serve different purposes, and the best choice depends on the specific needs of the situation.Lists are preferred when the orderof elements is important and when need to store a collection of items where duplicates are allowed."
      ],
      "metadata": {
        "id": "mnnpAzMvRrjL"
      }
    },
    {
      "cell_type": "markdown",
      "source": [
        "19. Why are dictionaries considered unordered, and how does that affect data retrieval?\n",
        "\n",
        " . A dictionary is termed an unordered collection of objects because dictionaries do not maintain any inherent order of the items based on when they were added.\n",
        "\n"
      ],
      "metadata": {
        "id": "_w2zitaJGL9B"
      }
    },
    {
      "cell_type": "markdown",
      "source": [
        "20. Explain the difference between a list and a dictionary in items of data retrieval?\n",
        "\n",
        " . Lists use integer indices to retrieve in a sequential mammer, while dictionaries use unique key to retrieve associated values.\n",
        "\n",
        "\n",
        "\n",
        "\n",
        "\n",
        "\n",
        "\n",
        "\n",
        "\n",
        "\n",
        "\n",
        "\n",
        "\n",
        "\n",
        "\n"
      ],
      "metadata": {
        "id": "eK3uuVVVQQ3v"
      }
    },
    {
      "cell_type": "markdown",
      "source": [
        "#         Practical Questions"
      ],
      "metadata": {
        "id": "Vlp61HOYW785"
      }
    },
    {
      "cell_type": "markdown",
      "source": [
        "1. Write a code to create a string with your name and print it."
      ],
      "metadata": {
        "id": "dd3D0aP2Y4cR"
      }
    },
    {
      "cell_type": "code",
      "execution_count": null,
      "metadata": {
        "id": "uYiYB5YSFDNw",
        "colab": {
          "base_uri": "https://localhost:8080/"
        },
        "outputId": "4de1e439-09d6-4b4f-ce44-f581da16b4d2"
      },
      "outputs": [
        {
          "output_type": "stream",
          "name": "stdout",
          "text": [
            "mansi rajput\n"
          ]
        }
      ],
      "source": [
        "print(\"mansi rajput\");\n"
      ]
    },
    {
      "cell_type": "markdown",
      "source": [
        "2. Write a code to find the length of the string \"Hello World\"."
      ],
      "metadata": {
        "id": "YBoUG5yvcrI0"
      }
    },
    {
      "cell_type": "code",
      "source": [
        "string  = \"Hello world\"\n",
        "length = len(string)\n",
        "print(length)\n"
      ],
      "metadata": {
        "colab": {
          "base_uri": "https://localhost:8080/"
        },
        "id": "gU7b8G0QbN9Q",
        "outputId": "4b151fd8-b0a3-4c8c-f6c0-9c4b50798f41"
      },
      "execution_count": null,
      "outputs": [
        {
          "output_type": "stream",
          "name": "stdout",
          "text": [
            "11\n"
          ]
        }
      ]
    },
    {
      "cell_type": "markdown",
      "source": [
        "3.Write a code to slice the first 3 characters from the string \"pyhton programming\"."
      ],
      "metadata": {
        "id": "slEmyxMnd4GY"
      }
    },
    {
      "cell_type": "code",
      "source": [
        "string1 = \"python programming\"\n",
        "string1[0:3]"
      ],
      "metadata": {
        "colab": {
          "base_uri": "https://localhost:8080/",
          "height": 36
        },
        "id": "Sof3cXlvdmQH",
        "outputId": "d05198e2-acc5-4389-bfae-4073ec81db60"
      },
      "execution_count": null,
      "outputs": [
        {
          "output_type": "execute_result",
          "data": {
            "text/plain": [
              "'pyt'"
            ],
            "application/vnd.google.colaboratory.intrinsic+json": {
              "type": "string"
            }
          },
          "metadata": {},
          "execution_count": 9
        }
      ]
    },
    {
      "cell_type": "markdown",
      "source": [
        "4.Write a code to convert the string \"hello\" to uppercase."
      ],
      "metadata": {
        "id": "9n6t0KdMf6dx"
      }
    },
    {
      "cell_type": "code",
      "source": [
        "string2 = \"hello\"\n",
        "string.upper()"
      ],
      "metadata": {
        "colab": {
          "base_uri": "https://localhost:8080/",
          "height": 36
        },
        "id": "RDd4mg0EfCxz",
        "outputId": "dcbb422f-3489-4b45-a425-0f16e0773b4d"
      },
      "execution_count": null,
      "outputs": [
        {
          "output_type": "execute_result",
          "data": {
            "text/plain": [
              "'HELLO WORLD'"
            ],
            "application/vnd.google.colaboratory.intrinsic+json": {
              "type": "string"
            }
          },
          "metadata": {},
          "execution_count": 11
        }
      ]
    },
    {
      "cell_type": "markdown",
      "source": [
        "5. Write a code to replace the word \"apple\" with \"orange\" in the string \"I like apple\"."
      ],
      "metadata": {
        "id": "ETbkoM72hKi3"
      }
    },
    {
      "cell_type": "code",
      "source": [
        "s = \"I like apple\"\n",
        "s.replace(\"apple\", \"orange\")"
      ],
      "metadata": {
        "colab": {
          "base_uri": "https://localhost:8080/",
          "height": 36
        },
        "id": "1bxR7l54gsvD",
        "outputId": "688d00c5-5da0-45d5-e93e-60492368fe84"
      },
      "execution_count": null,
      "outputs": [
        {
          "output_type": "execute_result",
          "data": {
            "text/plain": [
              "'I like orange'"
            ],
            "application/vnd.google.colaboratory.intrinsic+json": {
              "type": "string"
            }
          },
          "metadata": {},
          "execution_count": 12
        }
      ]
    },
    {
      "cell_type": "markdown",
      "source": [
        "6. write a code to create a list with numbers 1 to 5 and print it."
      ],
      "metadata": {
        "id": "CGa65FvImwon"
      }
    },
    {
      "cell_type": "code",
      "source": [],
      "metadata": {
        "id": "7eJj57jwnGkq"
      },
      "execution_count": null,
      "outputs": []
    },
    {
      "cell_type": "markdown",
      "source": [
        "7. Write a code to append the number 10 to the list [1,2,3,4]."
      ],
      "metadata": {
        "id": "sztNgLLtpQu6"
      }
    },
    {
      "cell_type": "code",
      "source": [
        "my_list = [1, 2, 3, 4]\n",
        "my_list.append(10)\n",
        "print(my_list)"
      ],
      "metadata": {
        "colab": {
          "base_uri": "https://localhost:8080/"
        },
        "id": "7pJSFFTjqB8i",
        "outputId": "b736ea28-cec7-456d-abe0-43641e4d38ae"
      },
      "execution_count": null,
      "outputs": [
        {
          "output_type": "stream",
          "name": "stdout",
          "text": [
            "[1, 2, 3, 4, 10]\n"
          ]
        }
      ]
    },
    {
      "cell_type": "markdown",
      "source": [
        "8.Write a code to remove the number 3 from the list [1,2,3,4,5]."
      ],
      "metadata": {
        "id": "QE5dMwViqY5p"
      }
    },
    {
      "cell_type": "code",
      "source": [
        "my_list = [1,2,3,4,5]\n",
        "my_list.remove(3)\n",
        "print(my_list)"
      ],
      "metadata": {
        "colab": {
          "base_uri": "https://localhost:8080/"
        },
        "id": "S8HKiTJ8qYe3",
        "outputId": "f310a6da-1ef2-43a3-b7ac-f32e22b21f4c"
      },
      "execution_count": null,
      "outputs": [
        {
          "output_type": "stream",
          "name": "stdout",
          "text": [
            "[1, 2, 4, 5]\n"
          ]
        }
      ]
    },
    {
      "cell_type": "markdown",
      "source": [
        "9. Write a code to access the second element in the list [\"a\", \"b\", \"c\", \"d\"]."
      ],
      "metadata": {
        "id": "D7NQq64nq74_"
      }
    },
    {
      "cell_type": "code",
      "source": [
        "my_list = [\"a\",\"b\",\"c\",\"d\"]\n",
        "my_list[1]"
      ],
      "metadata": {
        "colab": {
          "base_uri": "https://localhost:8080/",
          "height": 36
        },
        "id": "uhwxp0FcqPBp",
        "outputId": "ca7136e5-4ee7-47cf-8cdc-59f85bb2a2a6"
      },
      "execution_count": null,
      "outputs": [
        {
          "output_type": "execute_result",
          "data": {
            "text/plain": [
              "'b'"
            ],
            "application/vnd.google.colaboratory.intrinsic+json": {
              "type": "string"
            }
          },
          "metadata": {},
          "execution_count": 16
        }
      ]
    },
    {
      "cell_type": "markdown",
      "source": [
        "10. Write a code to reverse the list [10,20,30,40,50]."
      ],
      "metadata": {
        "id": "khxuBMbYssNV"
      }
    },
    {
      "cell_type": "code",
      "source": [
        "my_list = [10,20,30,40,50]\n",
        "my_list.reverse()\n",
        "print(my_list)"
      ],
      "metadata": {
        "colab": {
          "base_uri": "https://localhost:8080/"
        },
        "id": "5nGjjWQMscaW",
        "outputId": "7a68084e-11b9-4c75-96cb-9f6d89dbb929"
      },
      "execution_count": null,
      "outputs": [
        {
          "output_type": "stream",
          "name": "stdout",
          "text": [
            "[50, 40, 30, 20, 10]\n"
          ]
        }
      ]
    },
    {
      "cell_type": "markdown",
      "source": [
        "11. Write a code to create a tuple with the elements 100, 200, 300 and print it."
      ],
      "metadata": {
        "id": "hi9owbBStxBE"
      }
    },
    {
      "cell_type": "code",
      "source": [
        "t = ( 100, 200, 300)\n",
        "type(t)\n",
        "print(t)"
      ],
      "metadata": {
        "colab": {
          "base_uri": "https://localhost:8080/"
        },
        "id": "9zl5OlLZte2Z",
        "outputId": "2cf4d00b-eb2f-4004-c70a-396c3714178d"
      },
      "execution_count": null,
      "outputs": [
        {
          "output_type": "stream",
          "name": "stdout",
          "text": [
            "(100, 200, 300)\n"
          ]
        }
      ]
    },
    {
      "cell_type": "markdown",
      "source": [
        "12. Write a code to access the second-to-last element of the tuple (\"red\", \"green\", \"blue\", \"yellow\")."
      ],
      "metadata": {
        "id": "rtOyRNKa8n3N"
      }
    },
    {
      "cell_type": "code",
      "source": [
        "tuple1= (\"red\", \"green\", \"blue\", \"yellow\")\n",
        "print(tuple1)"
      ],
      "metadata": {
        "colab": {
          "base_uri": "https://localhost:8080/"
        },
        "id": "0NDsrdhJ8cKD",
        "outputId": "946afad4-622e-422e-d204-9f79f255baff"
      },
      "execution_count": null,
      "outputs": [
        {
          "output_type": "stream",
          "name": "stdout",
          "text": [
            "('red', 'green', 'blue', 'yellow')\n"
          ]
        }
      ]
    },
    {
      "cell_type": "code",
      "source": [
        "tuple1 [0:4]"
      ],
      "metadata": {
        "colab": {
          "base_uri": "https://localhost:8080/"
        },
        "id": "2Tqwc-rD9ycZ",
        "outputId": "fdb70cd4-062d-4251-e11a-990a9b9b1370"
      },
      "execution_count": null,
      "outputs": [
        {
          "output_type": "execute_result",
          "data": {
            "text/plain": [
              "('red', 'green', 'blue', 'yellow')"
            ]
          },
          "metadata": {},
          "execution_count": 35
        }
      ]
    },
    {
      "cell_type": "markdown",
      "source": [
        "13. Write a code to find the minimum number in the tuple(10,20,5,15)."
      ],
      "metadata": {
        "id": "RZ6J7d_J_qh7"
      }
    },
    {
      "cell_type": "code",
      "source": [
        "tuple = (10,20,5,15)\n",
        "min(tuple)"
      ],
      "metadata": {
        "colab": {
          "base_uri": "https://localhost:8080/"
        },
        "id": "gnv23WEK-nFO",
        "outputId": "b2b29c4f-c8e1-4b9e-8065-10828bf35de2"
      },
      "execution_count": null,
      "outputs": [
        {
          "output_type": "execute_result",
          "data": {
            "text/plain": [
              "5"
            ]
          },
          "metadata": {},
          "execution_count": 37
        }
      ]
    },
    {
      "cell_type": "markdown",
      "source": [
        "14. Write a code to find the index of the elements \"cat\" in he tuple ('dog', 'cat', 'rabbit')."
      ],
      "metadata": {
        "id": "LaL3IVBcADcf"
      }
    },
    {
      "cell_type": "code",
      "source": [
        "t = ('dog', 'cat', 'rabbit')\n",
        "t[1]"
      ],
      "metadata": {
        "colab": {
          "base_uri": "https://localhost:8080/",
          "height": 36
        },
        "id": "PST4Gm0n_lTv",
        "outputId": "30334251-b0aa-4640-ed32-9db1efa037e8"
      },
      "execution_count": null,
      "outputs": [
        {
          "output_type": "execute_result",
          "data": {
            "text/plain": [
              "'cat'"
            ],
            "application/vnd.google.colaboratory.intrinsic+json": {
              "type": "string"
            }
          },
          "metadata": {},
          "execution_count": 39
        }
      ]
    },
    {
      "cell_type": "markdown",
      "source": [
        "15. Write a code to create a tuple containing three different fruits and check it \"kiwi\" is in it."
      ],
      "metadata": {
        "id": "6ZTB6G7BAyMJ"
      }
    },
    {
      "cell_type": "code",
      "source": [],
      "metadata": {
        "id": "iV75JlUpAqSa"
      },
      "execution_count": null,
      "outputs": []
    },
    {
      "cell_type": "markdown",
      "source": [
        "16. Write a code to create a set with the elements 'a', 'b', 'c' nad print it."
      ],
      "metadata": {
        "id": "5rAgmFs_ThV3"
      }
    },
    {
      "cell_type": "code",
      "source": [
        "set = {'a', 'b', 'c'}\n",
        "set"
      ],
      "metadata": {
        "colab": {
          "base_uri": "https://localhost:8080/"
        },
        "id": "yU2t8_lMT6FY",
        "outputId": "9e52d1e3-3404-477b-8779-cb9785efc5ab"
      },
      "execution_count": 7,
      "outputs": [
        {
          "output_type": "execute_result",
          "data": {
            "text/plain": [
              "{'a', 'b', 'c'}"
            ]
          },
          "metadata": {},
          "execution_count": 7
        }
      ]
    },
    {
      "cell_type": "markdown",
      "source": [
        "17. Write a code to clear all elements fron the set {1,2,3,4,5}."
      ],
      "metadata": {
        "id": "HkzuBuHRUkB7"
      }
    },
    {
      "cell_type": "code",
      "source": [
        "s = {1,2,3,4,5}\n",
        "s.clear()\n",
        "s"
      ],
      "metadata": {
        "colab": {
          "base_uri": "https://localhost:8080/"
        },
        "id": "6AHHVwRhU4Gk",
        "outputId": "a7200949-da86-459c-9fcb-4831d6300f49"
      },
      "execution_count": 8,
      "outputs": [
        {
          "output_type": "execute_result",
          "data": {
            "text/plain": [
              "set()"
            ]
          },
          "metadata": {},
          "execution_count": 8
        }
      ]
    },
    {
      "cell_type": "markdown",
      "source": [
        "18. Write a code to remove the element 4 from the set {1, 2, 3, 4}."
      ],
      "metadata": {
        "id": "DxmUxzhzW5WP"
      }
    },
    {
      "cell_type": "code",
      "source": [
        "s = {1,2,3,4}\n",
        "s.remove(4)\n",
        "s"
      ],
      "metadata": {
        "colab": {
          "base_uri": "https://localhost:8080/"
        },
        "id": "T0t1I2D8UHm4",
        "outputId": "e09480ec-6242-40fd-b77e-0d6d2d750b57"
      },
      "execution_count": 10,
      "outputs": [
        {
          "output_type": "execute_result",
          "data": {
            "text/plain": [
              "{1, 2, 3}"
            ]
          },
          "metadata": {},
          "execution_count": 10
        }
      ]
    },
    {
      "cell_type": "markdown",
      "source": [
        "19. Write a code to find the union of two sets {1, 2, 3} and {3, 4, 5}."
      ],
      "metadata": {
        "id": "xhmWsGuFXZcM"
      }
    },
    {
      "cell_type": "code",
      "source": [
        "s1 = {1,2,3}\n",
        "s2 = {3,4,5}\n",
        "s1|s2"
      ],
      "metadata": {
        "colab": {
          "base_uri": "https://localhost:8080/"
        },
        "id": "LCKB9erZXVDd",
        "outputId": "1be3bef7-0d89-4d6d-9f31-40ad567b81fc"
      },
      "execution_count": 11,
      "outputs": [
        {
          "output_type": "execute_result",
          "data": {
            "text/plain": [
              "{1, 2, 3, 4, 5}"
            ]
          },
          "metadata": {},
          "execution_count": 11
        }
      ]
    },
    {
      "cell_type": "markdown",
      "source": [
        "20. Write a code to find the intersection of two sets {1, 2, 3} and {2, 3, 4}"
      ],
      "metadata": {
        "id": "sT_cdVIudfuH"
      }
    },
    {
      "cell_type": "code",
      "source": [
        "s1 = {1,2,3}\n",
        "s2 = {2,3,4}\n",
        "s1&s2"
      ],
      "metadata": {
        "colab": {
          "base_uri": "https://localhost:8080/"
        },
        "id": "vlI5Jl_ddVxn",
        "outputId": "6681bf8f-2120-480a-bbc2-ec8006b86927"
      },
      "execution_count": 12,
      "outputs": [
        {
          "output_type": "execute_result",
          "data": {
            "text/plain": [
              "{2, 3}"
            ]
          },
          "metadata": {},
          "execution_count": 12
        }
      ]
    },
    {
      "cell_type": "markdown",
      "source": [
        "21. Write a code to create a dictionary with the keys \"name\", \"age\", and \"city\", and print it."
      ],
      "metadata": {
        "id": "MH5tIPXfemip"
      }
    },
    {
      "cell_type": "code",
      "source": [
        "d = {\"name\" , \"age\"  , \"city\" }\n",
        "d"
      ],
      "metadata": {
        "colab": {
          "base_uri": "https://localhost:8080/"
        },
        "id": "0B16VylLec3h",
        "outputId": "3ef513b5-1ac2-489f-c1e9-f2fe8ee78ff4"
      },
      "execution_count": 14,
      "outputs": [
        {
          "output_type": "execute_result",
          "data": {
            "text/plain": [
              "{'age', 'city', 'name'}"
            ]
          },
          "metadata": {},
          "execution_count": 14
        }
      ]
    },
    {
      "cell_type": "markdown",
      "source": [
        "22. Write a code to add a new key-value pair \"country\": \"USA\" to the dictionary {'name': 'John', 'age': 25}."
      ],
      "metadata": {
        "id": "qc0IqDHXeq2K"
      }
    },
    {
      "cell_type": "code",
      "source": [
        "my_dict = {'name':'john','age':25}\n",
        "my_dict['country'] = \"USA\"\n",
        "print(my_dict)"
      ],
      "metadata": {
        "colab": {
          "base_uri": "https://localhost:8080/"
        },
        "id": "HXIlt3qOldqs",
        "outputId": "45c34aa4-fd9c-4831-a088-5c8f36c2a641"
      },
      "execution_count": 16,
      "outputs": [
        {
          "output_type": "stream",
          "name": "stdout",
          "text": [
            "{'name': 'john', 'age': 25, 'country': 'USA'}\n"
          ]
        }
      ]
    },
    {
      "cell_type": "markdown",
      "source": [
        " 23. Write a code to access the value associated with the key \"name\" in the dictionary {'name': 'Alice', 'age': 30}."
      ],
      "metadata": {
        "id": "WwmwKdeFrIZ1"
      }
    },
    {
      "cell_type": "code",
      "source": [
        "my_dict = {'name':'Alice','age':30}\n",
        "value = my_dict['name']\n",
        "print(value)"
      ],
      "metadata": {
        "colab": {
          "base_uri": "https://localhost:8080/"
        },
        "id": "g_9WXqXMrNEN",
        "outputId": "12b95b03-7f61-4ffe-9301-9aa2cb34007c"
      },
      "execution_count": 19,
      "outputs": [
        {
          "output_type": "stream",
          "name": "stdout",
          "text": [
            "Alice\n"
          ]
        }
      ]
    },
    {
      "cell_type": "markdown",
      "source": [
        "24. Write a code to remove the key \"age\" from the dictionary {'name': 'Bob', 'age': 22, 'city': 'New York'}."
      ],
      "metadata": {
        "id": "nkKX56mBuF9Y"
      }
    },
    {
      "cell_type": "code",
      "source": [
        "d ={'name': 'Bob', 'age': 22, 'city': 'New York'}\n",
        "del d['age']\n",
        "d"
      ],
      "metadata": {
        "colab": {
          "base_uri": "https://localhost:8080/"
        },
        "id": "YMEcMwdcuBb3",
        "outputId": "93cd5963-c43f-4605-b70d-b46b2c20b2fd"
      },
      "execution_count": 23,
      "outputs": [
        {
          "output_type": "execute_result",
          "data": {
            "text/plain": [
              "{'name': 'Bob', 'city': 'New York'}"
            ]
          },
          "metadata": {},
          "execution_count": 23
        }
      ]
    },
    {
      "cell_type": "markdown",
      "source": [
        "25. Write a code to check if the key \"city\" exists in the dictionary {'name': 'Alice', 'city': 'Paris'}.\n"
      ],
      "metadata": {
        "id": "rebWiTgIrRTW"
      }
    },
    {
      "cell_type": "code",
      "source": [
        "d = {'name': 'Alice', 'city': 'Paris'}\n",
        "key = 'city'\n",
        "print(key in \"city\")"
      ],
      "metadata": {
        "colab": {
          "base_uri": "https://localhost:8080/"
        },
        "id": "X1mqfTvlraNP",
        "outputId": "77cdbf1e-6050-42d8-e3ea-32dcba4eeeea"
      },
      "execution_count": 26,
      "outputs": [
        {
          "output_type": "stream",
          "name": "stdout",
          "text": [
            "True\n"
          ]
        }
      ]
    },
    {
      "cell_type": "markdown",
      "source": [
        "26. Write a code to create a list, a tuple, and a dictionary, and print them all.\n"
      ],
      "metadata": {
        "id": "So4Hs5gOra24"
      }
    },
    {
      "cell_type": "code",
      "source": [
        "my_list = [1,2,3, \"brinjal\", \"apple\"]\n",
        "my_tuple = (4,5,6, \"orange\")\n",
        "my_dict = {\"name\":\"mansi\",\"email\":\"mansi@gmail.com\"}\n",
        "print(my_list)\n",
        "print(my_tuple)\n",
        "print(my_dict)"
      ],
      "metadata": {
        "colab": {
          "base_uri": "https://localhost:8080/"
        },
        "id": "4S7Q43IBrgyc",
        "outputId": "9f18845d-559a-49eb-b875-7a403182cebb"
      },
      "execution_count": 28,
      "outputs": [
        {
          "output_type": "stream",
          "name": "stdout",
          "text": [
            "[1, 2, 3, 'brinjal', 'apple']\n",
            "(4, 5, 6, 'orange')\n",
            "{'name': 'mansi', 'email': 'mansi@gmail.com'}\n"
          ]
        }
      ]
    },
    {
      "cell_type": "markdown",
      "source": [
        "27. Write a code to create a list of 5 random numbers between 1 and 100, sort it in ascending order, and print the\n",
        "result.(replaced)"
      ],
      "metadata": {
        "id": "qrSLHVX6rihW"
      }
    },
    {
      "cell_type": "code",
      "source": [
        "random_numbers = random_number(1, 100)\n",
        "for in range(5)"
      ],
      "metadata": {
        "colab": {
          "base_uri": "https://localhost:8080/",
          "height": 106
        },
        "id": "3TIA_OK9rh5G",
        "outputId": "02affcd8-d957-4e82-f309-2625b938b525"
      },
      "execution_count": 38,
      "outputs": [
        {
          "output_type": "error",
          "ename": "SyntaxError",
          "evalue": "invalid syntax (<ipython-input-38-1735015072>, line 2)",
          "traceback": [
            "\u001b[0;36m  File \u001b[0;32m\"<ipython-input-38-1735015072>\"\u001b[0;36m, line \u001b[0;32m2\u001b[0m\n\u001b[0;31m    for in range(5)\u001b[0m\n\u001b[0m        ^\u001b[0m\n\u001b[0;31mSyntaxError\u001b[0m\u001b[0;31m:\u001b[0m invalid syntax\n"
          ]
        }
      ]
    },
    {
      "cell_type": "markdown",
      "source": [
        "28. Write a code to create a list with strings and print the element at the third index."
      ],
      "metadata": {
        "id": "ZkGIXm_9rqL9"
      }
    },
    {
      "cell_type": "code",
      "source": [
        "my_list = [\"apple\", \"mango\", \"brinjal\",\"tomato\"]\n",
        "my_list.index(tomato)\n"
      ],
      "metadata": {
        "colab": {
          "base_uri": "https://localhost:8080/",
          "height": 158
        },
        "id": "5JN0ht4Wrvrl",
        "outputId": "0299c6e7-236d-4ef3-fcce-da51f054a731"
      },
      "execution_count": 44,
      "outputs": [
        {
          "output_type": "error",
          "ename": "NameError",
          "evalue": "name 'tomato' is not defined",
          "traceback": [
            "\u001b[0;31m---------------------------------------------------------------------------\u001b[0m",
            "\u001b[0;31mNameError\u001b[0m                                 Traceback (most recent call last)",
            "\u001b[0;32m<ipython-input-44-3583388891>\u001b[0m in \u001b[0;36m<cell line: 0>\u001b[0;34m()\u001b[0m\n\u001b[1;32m      1\u001b[0m \u001b[0mmy_list\u001b[0m \u001b[0;34m=\u001b[0m \u001b[0;34m[\u001b[0m\u001b[0;34m\"apple\"\u001b[0m\u001b[0;34m,\u001b[0m \u001b[0;34m\"mango\"\u001b[0m\u001b[0;34m,\u001b[0m \u001b[0;34m\"brinjal\"\u001b[0m\u001b[0;34m,\u001b[0m\u001b[0;34m\"tomato\"\u001b[0m\u001b[0;34m]\u001b[0m\u001b[0;34m\u001b[0m\u001b[0;34m\u001b[0m\u001b[0m\n\u001b[0;32m----> 2\u001b[0;31m \u001b[0mmy_list\u001b[0m\u001b[0;34m.\u001b[0m\u001b[0mindex\u001b[0m\u001b[0;34m(\u001b[0m\u001b[0mtomato\u001b[0m\u001b[0;34m)\u001b[0m\u001b[0;34m\u001b[0m\u001b[0;34m\u001b[0m\u001b[0m\n\u001b[0m",
            "\u001b[0;31mNameError\u001b[0m: name 'tomato' is not defined"
          ]
        }
      ]
    },
    {
      "cell_type": "markdown",
      "source": [
        "29. Write a code to combine two dictionaries into one and print the result."
      ],
      "metadata": {
        "id": "33efsO9qJln2"
      }
    },
    {
      "cell_type": "code",
      "source": [
        "d1 = {1,2,3}\n",
        "d2 = {4,5,6}\n",
        "d1 | d2"
      ],
      "metadata": {
        "colab": {
          "base_uri": "https://localhost:8080/"
        },
        "id": "4I27xjjcHPh1",
        "outputId": "35afb159-7969-4c5b-bd85-aa67e2ef4f15"
      },
      "execution_count": 49,
      "outputs": [
        {
          "output_type": "execute_result",
          "data": {
            "text/plain": [
              "{1, 2, 3, 4, 5, 6}"
            ]
          },
          "metadata": {},
          "execution_count": 49
        }
      ]
    },
    {
      "cell_type": "markdown",
      "source": [
        "30. Write a code to convert a list of strings into a set."
      ],
      "metadata": {
        "id": "Dd3vlDDXKRQC"
      }
    },
    {
      "cell_type": "code",
      "source": [],
      "metadata": {
        "id": "haVPWjjQJ85f"
      },
      "execution_count": null,
      "outputs": []
    }
  ]
}